{
 "cells": [
  {
   "cell_type": "markdown",
   "metadata": {},
   "source": [
    "# Neutron Reflectivity Data Analysis\n",
    "\n"
   ]
  },
  {
   "cell_type": "code",
   "execution_count": 1,
   "metadata": {},
   "outputs": [],
   "source": [
    "#Imports.\n",
    "\n",
    "import matplotlib.pyplot as plt\n",
    "import numpy as np\n",
    "import os.path\n",
    "import refnx, scipy\n",
    "from refnx.analysis import CurveFitter, Objective, Parameter, GlobalObjective, process_chain\n",
    "from refnx.reflect import SLD, ReflectModel, Structure, LipidLeaflet\n",
    "from refnx.dataset import ReflectDataset\n",
    "import random\n",
    "from classModel import refModel\n",
    "import tqdm\n",
    "\n",
    "np.random.seed(1234)\n",
    "%matplotlib inline"
   ]
  },
  {
   "cell_type": "code",
   "execution_count": 2,
   "metadata": {},
   "outputs": [],
   "source": [
    "#Load in data. \n",
    "\n",
    "data_d2o = ReflectDataset('d2o.txt')\n",
    "data_h2o = ReflectDataset('pmw.txt')\n",
    "\n",
    "#Materials (Scattering Length Density)\n",
    "\n",
    "d2o_sld = Parameter(6.02, 'd2o SLD', vary=True, bounds= (-10,10))\n",
    "h2o_sld = Parameter(-0.56, 'h2o SLD', vary=True, bounds= (-10,10))\n",
    "\n",
    "d2o = SLD(d2o_sld) #D2O\n",
    "h2o = SLD(h2o_sld) #Water\n",
    "air = SLD(0) #Air\n",
    "\n",
    "si = SLD(1)\n",
    "sio2 = SLD(1)"
   ]
  },
  {
   "cell_type": "markdown",
   "metadata": {},
   "source": [
    "### Varied Parameters"
   ]
  },
  {
   "cell_type": "code",
   "execution_count": 3,
   "metadata": {},
   "outputs": [],
   "source": [
    "#D2O molar fraction in liquid.\n",
    "\n",
    "d2o_molfr = Parameter(1 , 'd2o fraction')\n",
    "d2o_molfr.setp(vary = True, bounds = (0,1))\n",
    "\n",
    "#Water per hear (Bilayer)\n",
    "\n",
    "Waters_per_head  = Parameter(7, 'Waters_per_head ')\n",
    "Waters_per_head.setp(vary=True, bounds=(0, 20))\n",
    "\n",
    "#Area Per Molecule \n",
    "\n",
    "apm = Parameter(100, 'area per molecule', vary=True, bounds=(50, 150))\n",
    "\n",
    "#Head and tail group thicknesses and roughness.\n",
    "\n",
    "inner_head_thickness = Parameter(10, 'inner_head_thickness', vary=True, bounds=(0.1, 50))\n",
    "outer_head_thickness = Parameter(10, 'outer_head_thickness', vary=True, bounds=(0.1, 50))\n",
    "tail_thickness = Parameter(10, 'tail_thickness', vary=True, bounds=(0.1, 20))\n",
    "roughness = Parameter(2, 'roughness', vary=True, bounds=(0, 5))\n",
    "\n",
    "#D2O layer.\n",
    "d2o_slab = d2o(25, 5)\n",
    "d2o_slab.thick.setp(vary=True, bounds=(20, 60))\n",
    "d2o_slab.thick.name = 'd2o thickness'\n",
    "\n",
    "d2o_slab.rough.setp(vary=True, bounds=(0, 20))\n",
    "d2o_slab.rough.name = 'd2o roughness'\n",
    "\n",
    "#H2O layer.\n",
    "h2o_slab = h2o(25, 5)\n",
    "h2o_slab.thick.setp(vary=True, bounds=(20, 60))\n",
    "h2o_slab.thick.name = 'h2o thickness'\n",
    "\n",
    "h2o_slab.rough.setp(vary=True, bounds=(0, 20))\n",
    "h2o_slab.rough.name = 'h2o roughness'\n",
    "\n",
    "#Lipid/solvent interface.\n",
    "solv_roughness = Parameter(3, 'bilayer/solvent roughness')\n",
    "solv_roughness.setp(vary=True, bounds=(0, 5))\n"
   ]
  },
  {
   "cell_type": "markdown",
   "metadata": {},
   "source": [
    "### Define constants"
   ]
  },
  {
   "cell_type": "code",
   "execution_count": 4,
   "metadata": {},
   "outputs": [],
   "source": [
    "#Define all the neutron b's\n",
    "bc = 0.6646e-4;\t\n",
    "bo = 0.5804e-4;\t\n",
    "bh = -0.3739e-4;\n",
    "bp = 0.513e-4\n",
    "bn = 0.936e-4\n",
    "bd = 0.6671e-4\n",
    "\n",
    "#Formulae of the molecule sections\n",
    "CH2 = (1*bc) + (2*bh);\n",
    "CH = (1*bc) + (1*bh);\n",
    "CH3 = (1*bc) + (3*bh);\n",
    "D2O = (2*bd) + (1*bo);\n",
    "H2O = (2*bh) + (1*bo);\n",
    "\n",
    "wMol = (d2o_molfr * D2O) + ((1-d2o_molfr)*H2O)"
   ]
  },
  {
   "cell_type": "markdown",
   "metadata": {},
   "source": [
    "### Define layer composition and dimensions"
   ]
  },
  {
   "cell_type": "code",
   "execution_count": 5,
   "metadata": {},
   "outputs": [],
   "source": [
    "#Bilayer\n",
    "\n",
    "sum_b_tails = (28*CH2) + (2*CH) + (2*CH3);\n",
    "sum_popc_heads = (8*bo) + (1*bp) + (1*bn) + (2*bc) + (4*CH2) + (3*CH3) + (1*CH);\n",
    "sum_popg_heads = (10*bo) + (1*bp) + (2*bc) + (4*CH2) + (2*CH) + (2*bh);\n",
    "sum_b_heads = (1/4)*(3*(sum_popc_heads) + (sum_popg_heads)) + (Waters_per_head * wMol);\n",
    "\n",
    "vCH2 = 27.7;\n",
    "nCH2 = 30;\n",
    "vCH3 = 54.6;\n",
    "volume_tails = (nCH2 * vCH2) + (2 * vCH3);\n",
    "volume_heads = 331;\n"
   ]
  },
  {
   "cell_type": "markdown",
   "metadata": {},
   "source": [
    "### Construct Layers"
   ]
  },
  {
   "cell_type": "code",
   "execution_count": 6,
   "metadata": {},
   "outputs": [],
   "source": [
    "#Sum of scattering lengths for the lipid head and tail in Angstrom.\n",
    "\n",
    "b_heads = Parameter(sum_b_heads, 'b_heads')\n",
    "b_tails = Parameter(sum_b_tails, 'b_tails')\n",
    "\n",
    "#Volume occupied by the head and tail groups in cubic Angstrom.\n",
    "\n",
    "v_heads = Parameter(volume_heads, 'v_heads')\n",
    "v_tails = Parameter(volume_tails, 'v_tails')\n",
    "\n",
    "#Bilayer\n",
    "\n",
    "bilayer_top = LipidLeaflet(apm,\n",
    "                             b_heads, v_heads, inner_head_thickness,\n",
    "                             b_tails, v_tails, tail_thickness,\n",
    "                             roughness, roughness)\n",
    "\n",
    "bilayer_bottom = LipidLeaflet(apm,\n",
    "                             b_heads, v_heads, inner_head_thickness,\n",
    "                             b_tails, v_tails, tail_thickness,\n",
    "                             roughness, roughness, reverse_monolayer=True)\n",
    "\n"
   ]
  },
  {
   "cell_type": "markdown",
   "metadata": {},
   "source": [
    "### Create structure models"
   ]
  },
  {
   "cell_type": "code",
   "execution_count": 7,
   "metadata": {},
   "outputs": [],
   "source": [
    "#Bilayer in D2O\n",
    "struct_d2o = air | bilayer_top | bilayer_bottom | d2o\n",
    "\n",
    "#Bilayer in H2O\n",
    "struct_h2o = air | bilayer_top | bilayer_bottom | h2o\n",
    "\n",
    "scaleargs = dict(vary=True, bounds=(0.5, 2))\n",
    "bkgargs = dict(vary=True, bounds=(-5e-6, 5e-6))\n",
    "\n",
    "model_d2o = ReflectModel(struct_d2o)\n",
    "model_d2o.scale.setp(**scaleargs)\n",
    "model_d2o.bkg.setp(**bkgargs)\n",
    "\n",
    "model_h2o = ReflectModel(struct_h2o)\n",
    "model_h2o.scale.setp(**scaleargs)\n",
    "model_h2o.bkg.setp(**bkgargs)"
   ]
  },
  {
   "cell_type": "markdown",
   "metadata": {},
   "source": [
    "### Fit to data"
   ]
  },
  {
   "cell_type": "code",
   "execution_count": 8,
   "metadata": {},
   "outputs": [
    {
     "data": {
      "image/png": "[encoded data removed]",
      "text/plain": [
       "<Figure size 432x288 with 1 Axes>"
      ]
     },
     "metadata": {
      "needs_background": "light"
     },
     "output_type": "display_data"
    }
   ],
   "source": [
    "obj_d2o = Objective(model_d2o, data_d2o)\n",
    "obj_h2o = Objective(model_h2o, data_h2o)\n",
    "global_obj = GlobalObjective([obj_d2o, obj_h2o])\n",
    "\n",
    "fitter = CurveFitter(global_obj)\n",
    "fitter.fit('differential_evolution')\n",
    "\n",
    "global_obj.plot()\n",
    "plt.title('Bilayer in fluid')\n",
    "plt.yscale('log')\n",
    "plt.xlabel('Q $(\\AA^{-1})$')\n",
    "plt.ylabel('Reflectivity')\n",
    "plt.legend();"
   ]
  },
  {
   "cell_type": "code",
   "execution_count": 9,
   "metadata": {},
   "outputs": [
    {
     "data": {
      "image/png": "[encoded data removed]",
      "text/plain": [
       "<Figure size 432x288 with 1 Axes>"
      ]
     },
     "metadata": {
      "needs_background": "light"
     },
     "output_type": "display_data"
    }
   ],
   "source": [
    "#SLD profile of structure.\n",
    "\n",
    "plt.plot(*struct_d2o.sld_profile(), label = '$D_2O$')\n",
    "plt.plot(*struct_h2o.sld_profile(), label = '$H_2O$')\n",
    "plt.title('Scattering Length Density Profile')\n",
    "plt.ylabel('SLD /$10^{-6} \\AA^{-2}$')\n",
    "plt.xlabel('distance / $\\AA$')\n",
    "plt.legend();"
   ]
  },
  {
   "cell_type": "markdown",
   "metadata": {},
   "source": [
    "### MCMC"
   ]
  },
  {
   "cell_type": "code",
   "execution_count": 10,
   "metadata": {},
   "outputs": [
    {
     "name": "stderr",
     "output_type": "stream",
     "text": [
      "100%|██████████| 2000/2000 [22:59<00:00,  1.45it/s]\n"
     ]
    }
   ],
   "source": [
    "#Burn frist 500, sample every 10th from 2000.\n",
    "\n",
    "fitter.sample(2000)\n",
    "process_chain(global_obj, fitter.chain, nburn=500, nthin=10, flatchain=True);"
   ]
  },
  {
   "cell_type": "code",
   "execution_count": null,
   "metadata": {},
   "outputs": [
    {
     "name": "stderr",
     "output_type": "stream",
     "text": [
      "/Users/Miron/miniconda3/envs/refnx/lib/python3.7/site-packages/IPython/core/events.py:88: UserWarning: Creating legend with loc=\"best\" can be slow with large amounts of data.\n",
      "  func(*args, **kwargs)\n",
      "/Users/Miron/miniconda3/envs/refnx/lib/python3.7/site-packages/IPython/core/pylabtools.py:128: UserWarning: Creating legend with loc=\"best\" can be slow with large amounts of data.\n",
      "  fig.canvas.print_figure(bytes_io, **kw)\n"
     ]
    }
   ],
   "source": [
    "#print(global_obj.parameters)\n",
    "\n",
    "global_obj.plot(samples = 1500)\n",
    "plt.title('MCMC fit of bilayer in fluid')\n",
    "plt.yscale('log')\n",
    "plt.xlabel('Q $(\\AA^{-1})$')\n",
    "plt.ylabel('Reflectivity')\n",
    "plt.legend();"
   ]
  },
  {
   "cell_type": "code",
   "execution_count": null,
   "metadata": {},
   "outputs": [],
   "source": [
    "global_obj.corner();"
   ]
  },
  {
   "cell_type": "code",
   "execution_count": null,
   "metadata": {},
   "outputs": [],
   "source": [
    "struct_d2o.plot(samples = 1500)\n",
    "struct_h2o.plot(samples = 1500);"
   ]
  },
  {
   "cell_type": "code",
   "execution_count": null,
   "metadata": {},
   "outputs": [],
   "source": []
  }
 ],
 "metadata": {
  "kernelspec": {
   "display_name": "Python 3",
   "language": "python",
   "name": "python3"
  },
  "language_info": {
   "codemirror_mode": {
    "name": "ipython",
    "version": 3
   },
   "file_extension": ".py",
   "mimetype": "text/x-python",
   "name": "python",
   "nbconvert_exporter": "python",
   "pygments_lexer": "ipython3",
   "version": "3.7.6"
  }
 },
 "nbformat": 4,
 "nbformat_minor": 4
}
