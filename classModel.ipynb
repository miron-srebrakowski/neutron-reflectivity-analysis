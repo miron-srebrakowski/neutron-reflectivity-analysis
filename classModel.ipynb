{
 "cells": [
  {
   "cell_type": "code",
   "execution_count": 4,
   "metadata": {},
   "outputs": [],
   "source": [
    "class refModel:\n",
    "    def __init__(self, low_param, apm, b_heads, v_heads, b_tails, v_tails, roughness):\n",
    "        self.apm = apm\n",
    "        self.b_heads = b_heads\n",
    "        self.v_heads = v_heads\n",
    "        self.b_tails = b_tails\n",
    "        self.v_tails = v_tails\n",
    "        self.rough = roughness\n",
    "        self.low_thick = low_param[0]\n",
    "        self.sld_low = low_param[1]\n",
    "        \n",
    "        \n",
    "    def make_model(self):\n",
    "        tails_thick = self.v_tails/self.apm\n",
    "        heads_thick = self.v_heads/self.apm\n",
    "        \n",
    "        sld_heads = self.b_heads/self.v_heads\n",
    "        sld_tails = self.b_tails/self.v_tails\n",
    "        \n",
    "        head_layer = [heads_thick, sld_heads, roughness]\n",
    "        tail_layer = [tails_thick, sld_tails, roughness]\n",
    "        \n",
    "        bilayer = [head_layer, tail_layer, tail_layer, head_layer]\n",
    "        lower_layer = [self.low_thick, self.sld_low, roughness]\n",
    "        \n",
    "        model = [lower_layer, bilayer]\n",
    "        \n",
    "        return model\n",
    "        \n",
    "        \n",
    "    "
   ]
  },
  {
   "cell_type": "code",
   "execution_count": null,
   "metadata": {},
   "outputs": [],
   "source": []
  }
 ],
 "metadata": {
  "kernelspec": {
   "display_name": "Python 3",
   "language": "python",
   "name": "python3"
  },
  "language_info": {
   "codemirror_mode": {
    "name": "ipython",
    "version": 3
   },
   "file_extension": ".py",
   "mimetype": "text/x-python",
   "name": "python",
   "nbconvert_exporter": "python",
   "pygments_lexer": "ipython3",
   "version": "3.7.6"
  }
 },
 "nbformat": 4,
 "nbformat_minor": 2
}
